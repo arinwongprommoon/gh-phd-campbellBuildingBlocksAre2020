{
 "cells": [
  {
   "cell_type": "markdown",
   "id": "a529ef67",
   "metadata": {},
   "source": [
    "# Import"
   ]
  },
  {
   "cell_type": "markdown",
   "id": "6ab845c5",
   "metadata": {},
   "source": [
    "CSV -> raw `DataFrames`"
   ]
  },
  {
   "cell_type": "code",
   "execution_count": null,
   "id": "368b0bf1",
   "metadata": {},
   "outputs": [],
   "source": [
    "import pandas as pd\n",
    "import numpy as np\n",
    "import matplotlib.pyplot as plt\n",
    "\n",
    "pd.set_option('display.max_rows', 10)"
   ]
  },
  {
   "cell_type": "code",
   "execution_count": null,
   "id": "fce86a1c",
   "metadata": {},
   "outputs": [],
   "source": [
    "sample_information_df = pd.read_csv('sample-information.csv')\n",
    "mRNA_raw = pd.read_csv('mRNA.csv')\n",
    "protein_raw = pd.read_csv('protein.csv')\n",
    "phosphorylated_protein_raw = pd.read_csv('phosphorylated-protein.csv')\n",
    "metabolites_raw = pd.read_csv('metabolites.csv')"
   ]
  },
  {
   "cell_type": "code",
   "execution_count": null,
   "id": "8a203334",
   "metadata": {},
   "outputs": [],
   "source": [
    "sample_information_df"
   ]
  },
  {
   "cell_type": "code",
   "execution_count": null,
   "id": "d2e7f1bc",
   "metadata": {},
   "outputs": [],
   "source": [
    "mRNA_raw"
   ]
  },
  {
   "cell_type": "code",
   "execution_count": null,
   "id": "e1d59169",
   "metadata": {},
   "outputs": [],
   "source": [
    "protein_raw"
   ]
  },
  {
   "cell_type": "code",
   "execution_count": null,
   "id": "5daa3bb3",
   "metadata": {},
   "outputs": [],
   "source": [
    "metabolites_raw"
   ]
  },
  {
   "cell_type": "markdown",
   "id": "76e1e13d",
   "metadata": {},
   "source": [
    "# Subsetting"
   ]
  },
  {
   "cell_type": "markdown",
   "id": "858d5673",
   "metadata": {},
   "source": [
    "## Genes/proteins: flavoproteins only"
   ]
  },
  {
   "cell_type": "code",
   "execution_count": null,
   "id": "d9e08737",
   "metadata": {},
   "outputs": [],
   "source": [
    "# import\n",
    "flavoproteins = pd.read_csv('flavoproteins-gudipati2014-ho2018.csv')\n",
    "\n",
    "# convenience functions --only works for flavoproteins\n",
    "def sgd_to_ensembl(name):\n",
    "    return flavoproteins.ensembl_gene_id[flavoproteins.sgd_name == name].to_list()[0]\n",
    "\n",
    "def ensembl_to_sgd(name):\n",
    "    return flavoproteins.sgd_name[flavoproteins.ensembl_gene_id == name].to_list()[0]\n",
    "\n",
    "flavoproteins"
   ]
  },
  {
   "cell_type": "code",
   "execution_count": null,
   "id": "7940cd4c",
   "metadata": {},
   "outputs": [],
   "source": [
    "mRNA_flavo_bool = mRNA_raw.ensembl_gene_id.apply(lambda x: x in flavoproteins.ensembl_gene_id.to_list())\n",
    "mRNA_flavo = mRNA_raw[mRNA_flavo_bool]\n",
    "mRNA_flavo"
   ]
  },
  {
   "cell_type": "code",
   "execution_count": null,
   "id": "6edd5bf4",
   "metadata": {},
   "outputs": [],
   "source": [
    "protein_flavo_bool = protein_raw.ensembl_gene_id.apply(lambda x: x in flavoproteins.ensembl_gene_id.to_list())\n",
    "protein_flavo = protein_raw[protein_flavo_bool]\n",
    "protein_flavo"
   ]
  },
  {
   "cell_type": "markdown",
   "id": "4dbfd1d5",
   "metadata": {},
   "source": [
    "## Metabolites: lipid only"
   ]
  },
  {
   "cell_type": "code",
   "execution_count": null,
   "id": "67dc8a1e",
   "metadata": {},
   "outputs": [],
   "source": [
    "metabolites_lipid = metabolites_raw[metabolites_raw.super_pathway == 'Lipid']\n",
    "metabolites_lipid"
   ]
  },
  {
   "cell_type": "markdown",
   "id": "f60bc4c9",
   "metadata": {},
   "source": [
    "# Data wrangling"
   ]
  },
  {
   "cell_type": "markdown",
   "id": "1096eace",
   "metadata": {},
   "source": [
    "(why did they put _all_ replicates into columns is beyond me...)\n",
    "\n",
    "Intended result\n",
    "\n",
    "- Only one column on the left that functions as ID\n",
    "- Rows indicate genes/proteins/metabolites.  Columns indicate time\n",
    "\n",
    "    - They indicate time rather than time points because time point 7 is inconsistent between replicates.  (Why are they like this?!)\n",
    "    \n",
    "- Add a column that corresponds to biological replicate."
   ]
  },
  {
   "cell_type": "code",
   "execution_count": null,
   "id": "8d244f77",
   "metadata": {},
   "outputs": [],
   "source": [
    "# Convert `sample_information_df` to a dictionary: Sample --> replicate & time\n",
    "# Reason: looking up the sample_information_df every time is slow.\n",
    "sample_information = dict(zip(\n",
    "    sample_information_df.Sample.to_list(),\n",
    "    sample_information_df[['Biological replicate', 'Time after arrest and release (minutes)']].to_numpy().tolist()\n",
    "))"
   ]
  },
  {
   "cell_type": "code",
   "execution_count": null,
   "id": "36519c3e",
   "metadata": {},
   "outputs": [],
   "source": [
    "# massage imported df into the form we want\n",
    "\n",
    "def df_wrangle(raw_df, id_column):\n",
    "    '''Massages the imported DataFrames into the form I want\n",
    "    \n",
    "    Parameters\n",
    "    ----------\n",
    "    raw_df: pandas.DataFrame\n",
    "        raw imported DataFrame from supplementary information\n",
    "    id_column: string\n",
    "        the column to retain to ID the time series\n",
    "    '''\n",
    "    # get the columns that don't begin with S\n",
    "    raw_columns = raw_df.columns.to_list()\n",
    "    metadata_columns = np.array(raw_columns)[np.invert(np.char.startswith(raw_columns, 'S'))].tolist()\n",
    "    # melt\n",
    "    df = raw_df.melt(id_vars = metadata_columns, var_name = 'Sample')\n",
    "    # convert Sample to replicate and timepoint, using sample_information dictionary\n",
    "    df = pd.concat(\n",
    "        [\n",
    "            df[id_column],\n",
    "            pd.DataFrame(\n",
    "                df.Sample.apply(lambda x: sample_information[x]).to_list(),\n",
    "                columns = ['replicate', 'time']\n",
    "            ),\n",
    "            df['value']\n",
    "        ], axis = 1\n",
    "    )\n",
    "    # put id_column, replicate, timepoint into multiindex\n",
    "    df = pd.DataFrame(\n",
    "        df.value.to_list(),\n",
    "        index = pd.MultiIndex.from_frame(df[['replicate', id_column, 'time']]),\n",
    "        columns = ['value']\n",
    "    )\n",
    "    # unstack\n",
    "    df = df.unstack('time')\n",
    "\n",
    "    return df\n",
    "\n",
    "mRNA_df = df_wrangle(mRNA_flavo, 'ensembl_gene_id')\n",
    "protein_df = df_wrangle(protein_flavo, 'ensembl_gene_id')\n",
    "phosphorylated_protein_df = df_wrangle(phosphorylated_protein_raw, 'uniprotswissprot_unique')\n",
    "metabolites_df = df_wrangle(metabolites_lipid, 'metabolite')"
   ]
  },
  {
   "cell_type": "code",
   "execution_count": null,
   "id": "9853e72a",
   "metadata": {},
   "outputs": [],
   "source": [
    "mRNA_df"
   ]
  },
  {
   "cell_type": "code",
   "execution_count": null,
   "id": "698bce6c",
   "metadata": {},
   "outputs": [],
   "source": [
    "protein_df"
   ]
  },
  {
   "cell_type": "code",
   "execution_count": null,
   "id": "af754c73",
   "metadata": {},
   "outputs": [],
   "source": [
    "phosphorylated_protein_df"
   ]
  },
  {
   "cell_type": "code",
   "execution_count": null,
   "id": "cd0604f6",
   "metadata": {},
   "outputs": [],
   "source": [
    "metabolites_df"
   ]
  },
  {
   "cell_type": "markdown",
   "id": "7d199c6d",
   "metadata": {},
   "source": [
    "# Visualisation"
   ]
  },
  {
   "cell_type": "markdown",
   "id": "db4d157b",
   "metadata": {},
   "source": [
    "Define functions"
   ]
  },
  {
   "cell_type": "code",
   "execution_count": null,
   "id": "beedd017",
   "metadata": {},
   "outputs": [],
   "source": [
    "from matplotlib import cm\n",
    "\n",
    "cdc_def = pd.DataFrame({\n",
    "    'start_time': [0, 21, 50, 80.5, 98, 126.5, 148],\n",
    "    'end_time': [21, 50, 80.5, 98, 126.5, 148, 158],\n",
    "    'phase': ['G1', 'S', 'G2/M', 'G1', 'S', 'G2/M', 'G1'],\n",
    "})\n",
    "\n",
    "cdc_colourmap = {\n",
    "    'G1': cm.Pastel1(0),\n",
    "    'S': cm.Pastel1(1),\n",
    "    'G2/M': cm.Pastel1(2),\n",
    "}\n",
    "\n",
    "def plot_genes(df, sgd_name):\n",
    "    name = sgd_to_ensembl(sgd_name)\n",
    "    for replicate in [1,2,3]:\n",
    "        plt.plot(\n",
    "            df.loc[(replicate, name)].index.get_level_values('time').to_numpy(),\n",
    "            df.loc[(replicate, name)].to_numpy()\n",
    "        )\n",
    "    # shade by cdc phase\n",
    "    for row_index in list(range(len(cdc_def))):\n",
    "        cdc_phase = cdc_def['phase'][row_index]\n",
    "        plt.axvspan(\n",
    "            cdc_def['start_time'][row_index],\n",
    "            cdc_def['end_time'][row_index],\n",
    "            facecolor = cdc_colourmap[cdc_phase]\n",
    "        )\n",
    "    plt.xlabel('Time (min)')\n",
    "    plt.ylabel('Expression')\n",
    "    plt.title(sgd_name)\n",
    "    plt.show()\n",
    "    \n",
    "def plot_replicates(df, name):\n",
    "    for replicate in [1,2,3]:\n",
    "        plt.plot(\n",
    "            df.loc[(replicate, name)].index.get_level_values('time').to_numpy(),\n",
    "            df.loc[(replicate, name)].to_numpy()\n",
    "        )\n",
    "    # shade by cdc phase\n",
    "    for row_index in list(range(len(cdc_def))):\n",
    "        cdc_phase = cdc_def['phase'][row_index]\n",
    "        plt.axvspan(\n",
    "            cdc_def['start_time'][row_index],\n",
    "            cdc_def['end_time'][row_index],\n",
    "            facecolor = cdc_colourmap[cdc_phase]\n",
    "        )\n",
    "    plt.xlabel('Time (min)')\n",
    "    plt.ylabel('Expression')\n",
    "    plt.title(name)\n",
    "    plt.show()\n",
    "\n",
    "#plot_genes(mRNA_df, 'fas1')"
   ]
  },
  {
   "cell_type": "markdown",
   "id": "2299740d",
   "metadata": {},
   "source": [
    "## mRNA"
   ]
  },
  {
   "cell_type": "code",
   "execution_count": null,
   "id": "82d19a91",
   "metadata": {},
   "outputs": [],
   "source": [
    "np.array([ensembl_to_sgd(name) for name in mRNA_df.index.get_level_values('ensembl_gene_id')])"
   ]
  },
  {
   "cell_type": "code",
   "execution_count": null,
   "id": "115c8e12",
   "metadata": {},
   "outputs": [],
   "source": [
    "gene_list = ['fas1', 'yhb1', 'ura1', 'pst2', 'trr1', 'ilv2', 'oye2', 'dld3', 'pdx3']\n",
    "\n",
    "for gene in gene_list:\n",
    "    plot_genes(mRNA_df, gene)"
   ]
  },
  {
   "cell_type": "markdown",
   "id": "8592d48c",
   "metadata": {},
   "source": [
    "## Protein"
   ]
  },
  {
   "cell_type": "code",
   "execution_count": null,
   "id": "3508c12f",
   "metadata": {},
   "outputs": [],
   "source": [
    "np.array([ensembl_to_sgd(name) for name in protein_df.index.get_level_values('ensembl_gene_id')])"
   ]
  },
  {
   "cell_type": "code",
   "execution_count": null,
   "id": "c342b69b",
   "metadata": {},
   "outputs": [],
   "source": [
    "gene_list = ['fas1', 'yhb1', 'ura1', 'pst2', 'trr1', 'ilv2', 'oye2', 'dld3', 'pdx3']\n",
    "\n",
    "for gene in gene_list:\n",
    "    plot_genes(protein_df, gene)"
   ]
  },
  {
   "cell_type": "markdown",
   "id": "a2932f35",
   "metadata": {},
   "source": [
    "## Metabolites"
   ]
  },
  {
   "cell_type": "code",
   "execution_count": null,
   "id": "b9973c19",
   "metadata": {},
   "outputs": [],
   "source": [
    "metabolites_df.index.get_level_values('metabolite').to_list()"
   ]
  },
  {
   "cell_type": "code",
   "execution_count": null,
   "id": "596598cb",
   "metadata": {},
   "outputs": [],
   "source": [
    "plot_replicates(metabolites_df, 'palmitate (16:0)')"
   ]
  }
 ],
 "metadata": {
  "kernelspec": {
   "display_name": "Python 3 (ipykernel)",
   "language": "python",
   "name": "python3"
  },
  "language_info": {
   "codemirror_mode": {
    "name": "ipython",
    "version": 3
   },
   "file_extension": ".py",
   "mimetype": "text/x-python",
   "name": "python",
   "nbconvert_exporter": "python",
   "pygments_lexer": "ipython3",
   "version": "3.10.2"
  }
 },
 "nbformat": 4,
 "nbformat_minor": 5
}
